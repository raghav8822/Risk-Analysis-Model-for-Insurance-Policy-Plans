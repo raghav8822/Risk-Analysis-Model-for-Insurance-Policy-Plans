{
 "cells": [
  {
   "cell_type": "markdown",
   "id": "2d599d4b-95a2-446a-bcba-a2bea825efe1",
   "metadata": {},
   "source": [
    "# Flashaid"
   ]
  },
  {
   "cell_type": "markdown",
   "id": "981e4bdf-8d1d-429e-8967-f01af6e87055",
   "metadata": {
    "tags": []
   },
   "source": [
    "## Import"
   ]
  },
  {
   "cell_type": "code",
   "execution_count": 1,
   "id": "064d1b2b-817e-435b-86d7-0f06bc8dfc04",
   "metadata": {
    "tags": []
   },
   "outputs": [],
   "source": [
    "import pandas as pd\n",
    "from sklearn.model_selection import train_test_split\n",
    "from sklearn.preprocessing import StandardScaler\n",
    "from sklearn.compose import ColumnTransformer\n",
    "from sklearn.preprocessing import OneHotEncoder\n",
    "from sklearn.pipeline import Pipeline\n",
    "from tensorflow.keras.models import Sequential\n",
    "from tensorflow.keras.layers import Dense\n",
    "from tensorflow.keras.utils import to_categorical"
   ]
  },
  {
   "cell_type": "markdown",
   "id": "aa62bafd-ec48-4f04-8cd8-7ecaaa0886c3",
   "metadata": {
    "tags": []
   },
   "source": [
    "## Data Collection"
   ]
  },
  {
   "cell_type": "markdown",
   "id": "60d94f2e-bfa5-4ae3-976b-f2353e078b2a",
   "metadata": {
    "jp-MarkdownHeadingCollapsed": true,
    "tags": []
   },
   "source": [
    "### Product List"
   ]
  },
  {
   "cell_type": "code",
   "execution_count": 2,
   "id": "576f9e5b-a7cd-4369-aacb-28612f36933d",
   "metadata": {
    "tags": []
   },
   "outputs": [],
   "source": [
    "#product_list = pd.read_excel(r\"C:\\Users\\abhay\\OneDrive\\Documents\\Flashaid\\Data\\Product List.xlsx\")"
   ]
  },
  {
   "cell_type": "code",
   "execution_count": 3,
   "id": "f5190c34-82cf-4055-a998-ae1ad8365669",
   "metadata": {
    "tags": []
   },
   "outputs": [],
   "source": [
    "#product_list.head()"
   ]
  },
  {
   "cell_type": "markdown",
   "id": "520833f1-50c0-421f-881b-94667cfbba50",
   "metadata": {
    "jp-MarkdownHeadingCollapsed": true,
    "tags": []
   },
   "source": [
    "### Flash360"
   ]
  },
  {
   "cell_type": "code",
   "execution_count": 4,
   "id": "da7d0ad5-c3d1-40b9-b1e2-9f724139a447",
   "metadata": {
    "tags": []
   },
   "outputs": [],
   "source": [
    "#flash360 = pd.read_excel(\"Flash360.xlsx\")"
   ]
  },
  {
   "cell_type": "code",
   "execution_count": 5,
   "id": "3518a124-2764-4799-9b57-e627db73862f",
   "metadata": {
    "tags": []
   },
   "outputs": [],
   "source": [
    "#yes_no_columns = ['Room Rent ICU Available', 'Room Rent Normal Propotinate Applicable', 'Room Rent ICU Propotinate Applicable', 'Cataract Available', 'Maternity Available', 'Hospital Covered', 'Advanced Treatment Available', 'Lasik Available', 'Accident Available', 'Critical Available', 'HospiCash Available', 'Pre Hospitalization 30 days', 'Post Hospitalization 60 days']\n",
    "#flash360[yes_no_columns] = flash360[yes_no_columns].applymap(lambda x: 1 if x == 'Yes' or x == 'yes' else 0)"
   ]
  },
  {
   "cell_type": "code",
   "execution_count": 6,
   "id": "416d01a2-54ea-47f4-9da1-ec96a1007839",
   "metadata": {
    "tags": []
   },
   "outputs": [],
   "source": [
    "#flash360 = flash360.drop(columns=['TPA'])"
   ]
  },
  {
   "cell_type": "code",
   "execution_count": 7,
   "id": "20aa371f-027e-4608-abb3-7a7de6a15739",
   "metadata": {
    "tags": []
   },
   "outputs": [],
   "source": [
    "#columns_to_encode = ['Product Name', 'Insurance Type', 'Insurance Company']\n",
    "#flash360 = pd.get_dummies(flash360, columns=columns_to_encode)"
   ]
  },
  {
   "cell_type": "code",
   "execution_count": 8,
   "id": "f8978d86-40fc-4903-b879-5eb03a475919",
   "metadata": {
    "tags": []
   },
   "outputs": [],
   "source": [
    "#flash360.fillna(flash360.mean(), inplace=True)"
   ]
  },
  {
   "cell_type": "code",
   "execution_count": 9,
   "id": "8211cdd9-7d1a-4e35-9654-f523f6cd71c9",
   "metadata": {
    "tags": []
   },
   "outputs": [],
   "source": [
    "#flash360.info()"
   ]
  },
  {
   "cell_type": "code",
   "execution_count": 10,
   "id": "01fa9458-9e4c-42c3-8f4c-0807b1107087",
   "metadata": {
    "tags": []
   },
   "outputs": [],
   "source": [
    "#flash360.head()"
   ]
  },
  {
   "cell_type": "code",
   "execution_count": 11,
   "id": "583e39ed-28b1-436d-86b8-6ab56c6cf0b0",
   "metadata": {
    "tags": []
   },
   "outputs": [],
   "source": [
    "#distinct_values = flash360.apply(lambda col: col.unique())\n",
    "\n",
    "#for column, values in distinct_values.items():\n",
    "#    print(f\"Column: {column}\")\n",
    "#    print(f\"Distinct values: {values}\\n\")"
   ]
  },
  {
   "cell_type": "markdown",
   "id": "36e0f21d-535e-4528-a8f2-a948a51c776e",
   "metadata": {
    "jp-MarkdownHeadingCollapsed": true,
    "tags": []
   },
   "source": [
    "## Flash360 XY"
   ]
  },
  {
   "cell_type": "code",
   "execution_count": 12,
   "id": "d19b05c3-36d9-45d0-8187-8c79431377da",
   "metadata": {
    "tags": []
   },
   "outputs": [],
   "source": [
    "flash360XY = pd.read_excel(\"Flashaid.xlsx\")"
   ]
  },
  {
   "cell_type": "code",
   "execution_count": 13,
   "id": "6ae88621-0dee-44c7-9d25-8a0118060021",
   "metadata": {
    "tags": []
   },
   "outputs": [],
   "source": [
    "yes_no_columns = ['Room Rent ICU Available', 'Room Rent Normal Propotinate Applicable', 'Room Rent ICU Propotinate Applicable', 'Cataract Available', 'Maternity Available', 'Hospital Covered', 'Advanced Treatment Available', 'Accident Available', 'Critical Available', 'HospiCash Available', 'Pre Hospitalization 30 days', 'Post Hospitalization 60 days']\n",
    "flash360XY[yes_no_columns] = flash360XY[yes_no_columns].applymap(lambda x: 1 if x == 'Yes' or x == 'yes' else 0)"
   ]
  },
  {
   "cell_type": "code",
   "execution_count": 14,
   "id": "7f781733-8db1-4f2c-ad41-7fad47c9bd54",
   "metadata": {
    "tags": []
   },
   "outputs": [],
   "source": [
    "flash360XY = flash360XY.drop(columns=['TPA', 'Product Name'])"
   ]
  },
  {
   "cell_type": "code",
   "execution_count": 15,
   "id": "910cfb1f-877d-4031-a1fd-5b39f9131bd7",
   "metadata": {
    "tags": []
   },
   "outputs": [],
   "source": [
    "columns_to_encode = ['Insurance Type']\n",
    "flash360XY = pd.get_dummies(flash360XY, columns=columns_to_encode)"
   ]
  },
  {
   "cell_type": "code",
   "execution_count": 16,
   "id": "a9a2aa9a-011b-4755-a095-c85c2080fe02",
   "metadata": {
    "tags": []
   },
   "outputs": [
    {
     "name": "stderr",
     "output_type": "stream",
     "text": [
      "C:\\Users\\abhay\\AppData\\Local\\Temp\\ipykernel_26544\\1642889356.py:1: FutureWarning: The default value of numeric_only in DataFrame.mean is deprecated. In a future version, it will default to False. In addition, specifying 'numeric_only=None' is deprecated. Select only valid columns or specify the value of numeric_only to silence this warning.\n",
      "  flash360XY.fillna(flash360XY.mean(), inplace=True)\n"
     ]
    }
   ],
   "source": [
    "flash360XY.fillna(flash360XY.mean(), inplace=True)"
   ]
  },
  {
   "cell_type": "code",
   "execution_count": 17,
   "id": "571cbee1-e65e-4121-ab65-980398fc991e",
   "metadata": {
    "tags": []
   },
   "outputs": [],
   "source": [
    "insurance_company_col = flash360XY.pop(\"Insurance Company\")\n",
    "flash360XY[\"Insurance Company\"] = insurance_company_col"
   ]
  },
  {
   "cell_type": "code",
   "execution_count": 18,
   "id": "5da29a7a-9efd-4ad8-9a6b-3be98b7e8bb3",
   "metadata": {
    "tags": []
   },
   "outputs": [],
   "source": [
    "#flash360XY.info()"
   ]
  },
  {
   "cell_type": "code",
   "execution_count": 19,
   "id": "e231638a-55ca-4e1a-b7b8-3220d352791e",
   "metadata": {
    "tags": []
   },
   "outputs": [],
   "source": [
    "#flash360XY.head()"
   ]
  },
  {
   "cell_type": "code",
   "execution_count": 20,
   "id": "3c9dbdef-226f-4874-a077-5e7d32668bcb",
   "metadata": {
    "tags": []
   },
   "outputs": [],
   "source": [
    "#distinct_values = flash360XY.apply(lambda col: col.unique())\n",
    "\n",
    "#for column, values in distinct_values.items():\n",
    "#    print(f\"Column: {column}\")\n",
    "#    print(f\"Distinct values: {values}\\n\")"
   ]
  },
  {
   "cell_type": "markdown",
   "id": "87c60e0d-62e7-4e2e-ac34-570d8a92ec03",
   "metadata": {
    "tags": []
   },
   "source": [
    "#### Prepare Data"
   ]
  },
  {
   "cell_type": "code",
   "execution_count": 21,
   "id": "702e29c9-902c-475b-b3be-577ed807d891",
   "metadata": {
    "tags": []
   },
   "outputs": [
    {
     "data": {
      "text/plain": [
       "\"X = flash360XY.drop(columns=['Insurance Company'])\\ny = flash360XY['Insurance Company']  # Target\\n\\ny = pd.get_dummies(y)\""
      ]
     },
     "execution_count": 21,
     "metadata": {},
     "output_type": "execute_result"
    }
   ],
   "source": [
    "'''X = flash360XY.drop(columns=['Insurance Company'])\n",
    "y = flash360XY['Insurance Company']  # Target\n",
    "\n",
    "y = pd.get_dummies(y)'''"
   ]
  },
  {
   "cell_type": "code",
   "execution_count": 22,
   "id": "b2bfd0e7-ae25-4877-9896-0f3f8d665b5b",
   "metadata": {
    "tags": []
   },
   "outputs": [],
   "source": [
    "#X_train, X_test, y_train, y_test = train_test_split(X, y, test_size=0.2, random_state=42)"
   ]
  },
  {
   "cell_type": "code",
   "execution_count": 23,
   "id": "59e6754f-4b7e-4738-84b9-12ff1f964284",
   "metadata": {
    "tags": []
   },
   "outputs": [
    {
     "data": {
      "text/plain": [
       "\"numeric_features = X.select_dtypes(include=['int64', 'float64']).columns.tolist()\\nnumeric_transformer = StandardScaler()\\n\\ncategorical_features = X.select_dtypes(include=['uint8']).columns.tolist()\\ncategorical_transformer = OneHotEncoder()\""
      ]
     },
     "execution_count": 23,
     "metadata": {},
     "output_type": "execute_result"
    }
   ],
   "source": [
    "'''numeric_features = X.select_dtypes(include=['int64', 'float64']).columns.tolist()\n",
    "numeric_transformer = StandardScaler()\n",
    "\n",
    "categorical_features = X.select_dtypes(include=['uint8']).columns.tolist()\n",
    "categorical_transformer = OneHotEncoder()'''"
   ]
  },
  {
   "cell_type": "code",
   "execution_count": 24,
   "id": "d3dc6a06-55f9-4754-a1da-292df667d921",
   "metadata": {
    "tags": []
   },
   "outputs": [
    {
     "data": {
      "text/plain": [
       "\"preprocessor = ColumnTransformer(\\n    transformers=[\\n        ('num', numeric_transformer, numeric_features),\\n        ('cat', categorical_transformer, categorical_features)\\n    ])\""
      ]
     },
     "execution_count": 24,
     "metadata": {},
     "output_type": "execute_result"
    }
   ],
   "source": [
    "'''preprocessor = ColumnTransformer(\n",
    "    transformers=[\n",
    "        ('num', numeric_transformer, numeric_features),\n",
    "        ('cat', categorical_transformer, categorical_features)\n",
    "    ])'''"
   ]
  },
  {
   "cell_type": "code",
   "execution_count": 25,
   "id": "3bb6b8ea-18c0-4986-af84-cfc1300c34f3",
   "metadata": {
    "tags": []
   },
   "outputs": [
    {
     "data": {
      "text/plain": [
       "\"pipeline = Pipeline(steps=[('preprocessor', preprocessor)])\""
      ]
     },
     "execution_count": 25,
     "metadata": {},
     "output_type": "execute_result"
    }
   ],
   "source": [
    "'''pipeline = Pipeline(steps=[('preprocessor', preprocessor)])'''"
   ]
  },
  {
   "cell_type": "code",
   "execution_count": 26,
   "id": "46047839-055d-4380-a592-57898342ffbb",
   "metadata": {
    "tags": []
   },
   "outputs": [
    {
     "data": {
      "text/plain": [
       "'X_train = pipeline.fit_transform(X_train)\\nX_test = pipeline.transform(X_test)'"
      ]
     },
     "execution_count": 26,
     "metadata": {},
     "output_type": "execute_result"
    }
   ],
   "source": [
    "'''X_train = pipeline.fit_transform(X_train)\n",
    "X_test = pipeline.transform(X_test)'''"
   ]
  },
  {
   "cell_type": "markdown",
   "id": "8d1fbf98-e31f-4834-85eb-793df6827e0a",
   "metadata": {},
   "source": [
    "#### Train Data"
   ]
  },
  {
   "cell_type": "code",
   "execution_count": 27,
   "id": "a435749c-d9ca-4719-80e4-70d52b43d720",
   "metadata": {
    "tags": []
   },
   "outputs": [
    {
     "data": {
      "text/plain": [
       "\"model = Sequential([\\n    Dense(64, activation='relu', input_dim=X_train.shape[1]),\\n    Dense(32, activation='relu'),\\n    Dense(y_train.shape[1], activation='softmax')  \\n])\""
      ]
     },
     "execution_count": 27,
     "metadata": {},
     "output_type": "execute_result"
    }
   ],
   "source": [
    "'''model = Sequential([\n",
    "    Dense(64, activation='relu', input_dim=X_train.shape[1]),\n",
    "    Dense(32, activation='relu'),\n",
    "    Dense(y_train.shape[1], activation='softmax')  \n",
    "])'''"
   ]
  },
  {
   "cell_type": "code",
   "execution_count": 28,
   "id": "e0576981-f917-458c-9822-4b67ff10cfad",
   "metadata": {
    "tags": []
   },
   "outputs": [],
   "source": [
    "#model.compile(optimizer='adam', loss='categorical_crossentropy', metrics=['accuracy'])"
   ]
  },
  {
   "cell_type": "code",
   "execution_count": 29,
   "id": "c46e664f-61f2-410f-890e-888270eb1085",
   "metadata": {
    "tags": []
   },
   "outputs": [],
   "source": [
    "#history = model.fit(X_train, y_train, epochs=10, batch_size=32, validation_data=(X_test, y_test))"
   ]
  },
  {
   "cell_type": "markdown",
   "id": "898989ab-6c66-43ab-ba7f-d2a6a8fb8ed0",
   "metadata": {},
   "source": [
    "#### Evaluate"
   ]
  },
  {
   "cell_type": "code",
   "execution_count": 30,
   "id": "60e7175f-3624-4b65-a691-870e3ec69a58",
   "metadata": {
    "tags": []
   },
   "outputs": [],
   "source": [
    "#loss, accuracy = model.evaluate(X_test, y_test)\n",
    "#print(f\"Test Accuracy: {accuracy}\")"
   ]
  },
  {
   "cell_type": "code",
   "execution_count": 31,
   "id": "555b5818-674b-4c3d-94a7-0a10e4710941",
   "metadata": {
    "tags": []
   },
   "outputs": [],
   "source": [
    "#predictions = model.predict(X_test)"
   ]
  },
  {
   "cell_type": "markdown",
   "id": "bd23f416-c9ca-498c-b835-f4017219f41f",
   "metadata": {
    "jp-MarkdownHeadingCollapsed": true,
    "tags": []
   },
   "source": [
    "## Claims Data"
   ]
  },
  {
   "cell_type": "code",
   "execution_count": 32,
   "id": "f35e8cb4-f532-4d78-b81b-01ca804d3696",
   "metadata": {
    "tags": []
   },
   "outputs": [],
   "source": [
    "claims_data = pd.read_excel(\"Claim Data.xlsx\")"
   ]
  },
  {
   "cell_type": "code",
   "execution_count": 33,
   "id": "9051e5cf-aaee-4a78-974a-ee0cc7153e81",
   "metadata": {
    "tags": []
   },
   "outputs": [],
   "source": [
    "#claims_data = claims_data.drop(columns=['TPA'])"
   ]
  },
  {
   "cell_type": "code",
   "execution_count": 34,
   "id": "a814f877-4efc-4cad-9e8c-76cba913086d",
   "metadata": {
    "tags": []
   },
   "outputs": [],
   "source": [
    "#claims_data.info()"
   ]
  },
  {
   "cell_type": "code",
   "execution_count": 35,
   "id": "769e79f6-ee49-49aa-844c-5c2e8e57bd0d",
   "metadata": {
    "tags": []
   },
   "outputs": [],
   "source": [
    "#claims_data"
   ]
  },
  {
   "cell_type": "code",
   "execution_count": 36,
   "id": "1731483f-843d-4a17-ad1a-15ab9dd0af08",
   "metadata": {
    "tags": []
   },
   "outputs": [],
   "source": [
    "claims_imp = claims_data[['Insurance Company', 'Year', 'Net Written Premium', 'Net incurred claims', 'Claims Reported', 'Total Policies', '% claims by no']]"
   ]
  },
  {
   "cell_type": "code",
   "execution_count": 37,
   "id": "992badd1-b7e5-45de-8b8d-000d89894dc7",
   "metadata": {
    "tags": []
   },
   "outputs": [],
   "source": [
    "columns_to_encode = ['Year']\n",
    "claims_imp = pd.get_dummies(claims_imp, columns=columns_to_encode)"
   ]
  },
  {
   "cell_type": "code",
   "execution_count": 38,
   "id": "7a89edaf-b419-47e2-be42-1cebb64aa6d6",
   "metadata": {
    "tags": []
   },
   "outputs": [],
   "source": [
    "#claims_imp.info()"
   ]
  },
  {
   "cell_type": "code",
   "execution_count": 39,
   "id": "ac576de3-3ed2-47d7-bcbc-b1d1c489a867",
   "metadata": {
    "tags": []
   },
   "outputs": [],
   "source": [
    "#claims_imp"
   ]
  },
  {
   "cell_type": "markdown",
   "id": "fcf7b3ab-40ad-4c3d-bf26-e29a7c5d969e",
   "metadata": {
    "tags": []
   },
   "source": [
    "## Splitting claims as per insurance cost"
   ]
  },
  {
   "cell_type": "markdown",
   "id": "6c56244d-a83d-4121-8872-ae3330927ad2",
   "metadata": {},
   "source": [
    "### Calculating and merging total revenue to flash360XY"
   ]
  },
  {
   "cell_type": "code",
   "execution_count": 40,
   "id": "955aad49-fb89-45c3-973b-7cc20bcf3cc3",
   "metadata": {
    "tags": []
   },
   "outputs": [],
   "source": [
    "total_revenue = flash360XY.groupby('Insurance Company')['Insurance Price with GST'].sum().reset_index()\n",
    "total_revenue.columns = ['Insurance Company', 'Total Revenue']\n",
    "flash360XY = flash360XY.merge(total_revenue, on='Insurance Company', how='left')"
   ]
  },
  {
   "cell_type": "markdown",
   "id": "8b2de256-2df7-49c7-95fd-f89336abf3a9",
   "metadata": {},
   "source": [
    "### Doing a weighted average of the % claims over 3 years data"
   ]
  },
  {
   "cell_type": "code",
   "execution_count": 41,
   "id": "296bc076-53bf-4556-9f45-0a109be7f80c",
   "metadata": {
    "tags": []
   },
   "outputs": [],
   "source": [
    "weights = {'Year_2021-22': 1, 'Year_2022-23': 2, 'Year_2023-24': 3}\n",
    "\n",
    "claims_imp['Total Weight'] = 0\n",
    "for year, weight in weights.items():\n",
    "    claims_imp['Total Weight'] += claims_imp[year] * weight\n",
    "\n",
    "claims_imp['Weighted Claims Reported'] = claims_imp['Total Weight'] / sum(weights.values()) * claims_imp['Claims Reported']\n",
    "\n",
    "\n",
    "weighted_claims = claims_imp.groupby(['Insurance Company'])['Weighted Claims Reported'].sum().reset_index()"
   ]
  },
  {
   "cell_type": "code",
   "execution_count": 42,
   "id": "48799165-6258-4486-8635-42eb70d3b4a0",
   "metadata": {
    "tags": []
   },
   "outputs": [],
   "source": [
    "#claims_imp"
   ]
  },
  {
   "cell_type": "code",
   "execution_count": 43,
   "id": "9bc33268-ff46-49b5-b27d-f6eb58728140",
   "metadata": {
    "tags": []
   },
   "outputs": [],
   "source": [
    "flash360XY = flash360XY.merge(weighted_claims, on='Insurance Company', how='left')"
   ]
  },
  {
   "cell_type": "markdown",
   "id": "60367748-25c1-4ff3-aa0f-a52ec5705f98",
   "metadata": {},
   "source": [
    "### Calculate proportional claims reported for each row"
   ]
  },
  {
   "cell_type": "code",
   "execution_count": 44,
   "id": "5a10ceef-3108-4776-8b3d-7949709f12c9",
   "metadata": {
    "tags": []
   },
   "outputs": [],
   "source": [
    "def calculate_proportional_claims(row):\n",
    "    return (row['Insurance Price with GST'] / row['Total Revenue']) * row['Weighted Claims Reported']\n",
    "\n",
    "flash360XY['Proportional Claims Reported'] = flash360XY.apply(calculate_proportional_claims, axis=1)"
   ]
  },
  {
   "cell_type": "markdown",
   "id": "f3e168bb-2239-45ba-a792-104e396b4544",
   "metadata": {},
   "source": [
    "Summing up the Proportional Claims Reported for each insurance company in flash360"
   ]
  },
  {
   "cell_type": "code",
   "execution_count": 45,
   "id": "96058589-17d4-43d7-88f4-319e0cb97f16",
   "metadata": {
    "tags": []
   },
   "outputs": [],
   "source": [
    "#proportional_claims_sum = flash360XY.groupby('Insurance Company')['Proportional Claims Reported'].sum().reset_index()\n",
    "#proportional_claims_sum.columns = ['Insurance Company', 'Total Proportional Claims Reported']\n",
    "\n",
    "#proportional_claims_sum"
   ]
  },
  {
   "cell_type": "markdown",
   "id": "b2285923-6d8c-4628-9c29-67d20e442e94",
   "metadata": {},
   "source": [
    "### Weighted Total Policies"
   ]
  },
  {
   "cell_type": "code",
   "execution_count": 46,
   "id": "37e09341-ddf8-4327-a3a9-d591f8490532",
   "metadata": {
    "tags": []
   },
   "outputs": [],
   "source": [
    "claims_imp['Weighted Total Policies'] = claims_imp['Total Weight'] / sum(weights.values()) * claims_imp['Total Policies']\n",
    "\n",
    "weighted_policies = claims_imp.groupby(['Insurance Company'])['Weighted Total Policies'].sum().reset_index()"
   ]
  },
  {
   "cell_type": "code",
   "execution_count": 47,
   "id": "8dccba30-86a1-479c-9e7f-9abc0bb03d4e",
   "metadata": {
    "tags": []
   },
   "outputs": [],
   "source": [
    "flash360XY = flash360XY.merge(weighted_policies, on='Insurance Company', how='left')"
   ]
  },
  {
   "cell_type": "code",
   "execution_count": 48,
   "id": "e823fc57-d2c6-48e8-a325-b19b869b23a8",
   "metadata": {
    "tags": []
   },
   "outputs": [],
   "source": [
    "def calculate_proportional_policies(row):\n",
    "    return (row['Insurance Price with GST'] / row['Total Revenue']) * row['Weighted Total Policies']\n",
    "\n",
    "flash360XY['Proportional Total Policies'] = flash360XY.apply(calculate_proportional_policies, axis=1)"
   ]
  },
  {
   "cell_type": "code",
   "execution_count": 49,
   "id": "cf048d42-0b78-455b-9431-433a88b8d8cb",
   "metadata": {
    "tags": []
   },
   "outputs": [],
   "source": [
    "#proportional_policies_sum = flash360XY.groupby('Insurance Company')['Proportional Total Policies'].sum().reset_index()\n",
    "#proportional_policies_sum.columns = ['Insurance Company', 'Total Proportional Policies Reported']\n",
    "\n",
    "#proportional_policies_sum"
   ]
  },
  {
   "cell_type": "code",
   "execution_count": 50,
   "id": "d2460d77-3c6f-49a0-a683-bc8db4cbbb5f",
   "metadata": {
    "tags": []
   },
   "outputs": [],
   "source": [
    "flash360XY['Proportional Claims Reported'] = flash360XY['Proportional Claims Reported'].round()\n",
    "flash360XY['Proportional Total Policies'] = flash360XY['Proportional Total Policies'].round()\n",
    "\n",
    "flash360XY['Claim Risk'] = flash360XY['Proportional Claims Reported'] / flash360XY['Proportional Total Policies']\n",
    "flash360XY['Claim Risk'] = flash360XY['Claim Risk'].round(4)"
   ]
  },
  {
   "cell_type": "code",
   "execution_count": 51,
   "id": "f20303b2-3b4f-4e85-a79c-6cf9c4abcbbe",
   "metadata": {
    "tags": []
   },
   "outputs": [],
   "source": [
    "#flash360XY['Claim Risk'].unique()"
   ]
  },
  {
   "cell_type": "code",
   "execution_count": 52,
   "id": "bd9a40db-d7c4-413f-b70e-7d835757446e",
   "metadata": {
    "tags": []
   },
   "outputs": [],
   "source": [
    "flash360XY.drop(columns=['Total Revenue', 'Weighted Claims Reported', 'Weighted Total Policies'], inplace=True)"
   ]
  },
  {
   "cell_type": "code",
   "execution_count": 53,
   "id": "63fdf41f-a73c-437a-9ca9-433a05b8f755",
   "metadata": {
    "tags": []
   },
   "outputs": [],
   "source": [
    "#flash360XY.head()"
   ]
  },
  {
   "cell_type": "markdown",
   "id": "c088566f-278c-4198-8917-d9df16af2a6a",
   "metadata": {},
   "source": [
    "## Saving CSVs"
   ]
  },
  {
   "cell_type": "code",
   "execution_count": 54,
   "id": "ac8eaaec-3baf-4164-b3df-41ef3c8977ba",
   "metadata": {
    "tags": []
   },
   "outputs": [],
   "source": [
    "flash360XY.to_csv('flash360XY.csv', index=False)\n",
    "claims_imp.to_csv('claims_imp.csv', index=False)"
   ]
  }
 ],
 "metadata": {
  "kernelspec": {
   "display_name": "Python 3 (ipykernel)",
   "language": "python",
   "name": "python3"
  },
  "language_info": {
   "codemirror_mode": {
    "name": "ipython",
    "version": 3
   },
   "file_extension": ".py",
   "mimetype": "text/x-python",
   "name": "python",
   "nbconvert_exporter": "python",
   "pygments_lexer": "ipython3",
   "version": "3.11.3"
  }
 },
 "nbformat": 4,
 "nbformat_minor": 5
}
