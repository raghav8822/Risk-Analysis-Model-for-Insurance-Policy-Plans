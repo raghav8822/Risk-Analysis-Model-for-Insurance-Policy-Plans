{
 "cells": [
  {
   "cell_type": "markdown",
   "id": "0ca2edce-4d37-4212-a262-bab08fe9f217",
   "metadata": {},
   "source": [
    "# Predict"
   ]
  },
  {
   "cell_type": "code",
   "execution_count": 1,
   "id": "82b1996b-8801-4ff8-9fcf-fcb26cff8dd4",
   "metadata": {
    "tags": []
   },
   "outputs": [],
   "source": [
    "import numpy as np\n",
    "import pandas as pd\n",
    "from sklearn.preprocessing import StandardScaler\n",
    "from keras.models import load_model\n",
    "import joblib"
   ]
  },
  {
   "cell_type": "code",
   "execution_count": 27,
   "id": "fd718e0a-2514-4f7b-9efe-0e6e008c1af5",
   "metadata": {
    "tags": []
   },
   "outputs": [],
   "source": [
    "ann_model = load_model('ann_model.keras')\n",
    "rf_model = joblib.load('rf_model.pkl')\n",
    "scaler = joblib.load('scaler.pkl')"
   ]
  },
  {
   "cell_type": "code",
   "execution_count": 3,
   "id": "162afa33-a64f-46ef-a445-69b032baee5c",
   "metadata": {
    "tags": []
   },
   "outputs": [],
   "source": [
    "flashaidtemp = pd.read_csv('flashaidtemp.csv')"
   ]
  },
  {
   "cell_type": "code",
   "execution_count": 4,
   "id": "266d5011-dc88-4ec3-b82b-dc626ec1e4cf",
   "metadata": {
    "tags": []
   },
   "outputs": [],
   "source": [
    "X = flashaidtemp.drop(columns=['Claim Risk'])\n",
    "y = flashaidtemp['Claim Risk']"
   ]
  },
  {
   "cell_type": "markdown",
   "id": "5c2ec238-a135-438c-9746-fd8c414ffe00",
   "metadata": {
    "jp-MarkdownHeadingCollapsed": true,
    "tags": []
   },
   "source": [
    "### Compile Time Input"
   ]
  },
  {
   "cell_type": "code",
   "execution_count": 5,
   "id": "4878face-f37d-4b47-91fa-f21b1338c2bf",
   "metadata": {
    "tags": []
   },
   "outputs": [],
   "source": [
    "user_input = {\n",
    "    'Frequency Months': 12,\n",
    "    'Adult': 1,\n",
    "    'Child': 0,\n",
    "    'Sum Assured': 100000,\n",
    "    'Insurance Price with GST': 41,\n",
    "    'Max Age': 60,\n",
    "    'Min Age': 18,\n",
    "    'Insurance Type_Health': 0,\n",
    "    'Insurance Type_Accidental Death': 1,\n",
    "    'Insurance Type_Critical illness': 0,\n",
    "    'Pre-existing disease waiting period years': 4,\n",
    "    'Day Care Surgery waiting period years': 0,\n",
    "    'Cooling Period days': 30,\n",
    "    'Room Rent ICU Available': 0,\n",
    "    'Room Rent Normal Percent': 0,\n",
    "    'Room Rent ICU Percent': 0,\n",
    "    'Cataract Available': 0,\n",
    "    'Cataract waiting years': 0,\n",
    "    'Maternity Available': 0,\n",
    "    'Maternity Flat': 0,\n",
    "    'Hospital Covered': 1,\n",
    "    'Pre Hospitalization 30 days': 0,\n",
    "    'Post Hospitalization 60 days': 0,\n",
    "    'Advanced Treatment Available': 0,\n",
    "    'Accident Available': 1,\n",
    "    'Critical Available': 0,\n",
    "    'HospiCash Available': 0\n",
    "}"
   ]
  },
  {
   "cell_type": "markdown",
   "id": "77b789a1-330a-4459-b44a-041f477ffdeb",
   "metadata": {
    "jp-MarkdownHeadingCollapsed": true,
    "tags": []
   },
   "source": [
    "### Run Time Input"
   ]
  },
  {
   "cell_type": "code",
   "execution_count": 6,
   "id": "2a2d62dc-0fb2-4189-82ce-b539f393ee70",
   "metadata": {
    "tags": []
   },
   "outputs": [],
   "source": [
    "def get_user_input():\n",
    "    user_input = {}\n",
    "    for column in flashaidtemp.columns[0:10]:             \n",
    "        if column == \"Insurance Type_Health\":\n",
    "            value = int(input(f\"Is Healthcare insurance available? Enter 1 for Yes and 0 for No: \"))\n",
    "            user_input[column] = value\n",
    "            if value == 1:\n",
    "                # Set other insurance types to 0 if healthcare is 1\n",
    "                user_input[\"Insurance Type_Accidental Death\"] = 0\n",
    "                user_input[\"Insurance Type_Critical illness\"] = 0\n",
    "            else:\n",
    "                value = int(input(f\"Is Accidental Death insurance available? Enter 1 for Yes and 0 for No: \"))\n",
    "                user_input[\"Insurance Type_Accidental Death\"] = value\n",
    "                if value == 1:\n",
    "                    user_input[\"Insurance Type_Critical illness\"] = 0\n",
    "                    user_input[\"Accident Available\"] = 1\n",
    "                    user_input[\"Critical Available\"] = 0\n",
    "                else:\n",
    "                    value = int(input(f\"Is Critical insurance available? Enter 1 for Yes and 0 for No: \"))\n",
    "                    user_input[\"Insurance Type_Critical illness\"] = value\n",
    "                    user_input[\"Accident Available\"] = 0\n",
    "                    user_input[\"Critical Available\"] = 1\n",
    "                    if value == 0:\n",
    "                        print(\"Error, must be of one of 3 types\")\n",
    "                        exit(1)\n",
    "                    \n",
    "        if column not in user_input: \n",
    "            user_input[column] = float(input(f\"Enter value for {column}: \"))            \n",
    "                    \n",
    "    for column in flashaidtemp.columns[10:-1]:\n",
    "            if user_input.get(\"Insurance Type_Health\") == 0:\n",
    "                    if column in [\"Day Care Surgery waiting period years\", \"Advanced Treatment Available\",\n",
    "                                  \"Room Rent Normal Percent\", \"Room Rent ICU Percent\", \"Maternity Available\",\n",
    "                                  \"Room Rent ICU Available\", \"Maternity Flat\", \"Pre Hospitalization 30 days\", \n",
    "                                  \"Cataract Available\", \"Cataract waiting years\", \"Post Hospitalization 60 days\", \n",
    "                                  \"HospiCash Available\"]:\n",
    "                        user_input[column] = 0\n",
    "                        continue\n",
    "                                           \n",
    "            if column not in user_input: \n",
    "                if column.endswith(\"Available\"):\n",
    "                    value = int(input(f\"Is {column.replace(' Available', '')} available? Enter 1 for Yes and 0 for No: \"))\n",
    "                    user_input[column] = value\n",
    "                \n",
    "                elif column.endswith(\"0 days\"):\n",
    "                    value = int(input(f\"Is {column} available? Enter 1 for Yes and 0 for No: \"))\n",
    "                    user_input[column] = value\n",
    "                \n",
    "                else:\n",
    "                    value = float(input(f\"Enter value for {column}: \"))\n",
    "                    user_input[column] = value\n",
    "                \n",
    "            if column == \"Cataract Available\" and value == 0:\n",
    "                user_input[\"Cataract waiting years\"] = 0\n",
    "            if column == \"Maternity Available\" and value == 0:\n",
    "                user_input[\"Maternity Flat\"] = 0\n",
    "            if column == \"Room Rent ICU Available\" and value == 0:\n",
    "                user_input[\"Room Rent Normal Percent\"] = 0\n",
    "                user_input[\"Room Rent ICU Percent\"] = 0\n",
    "    \n",
    "    return user_input"
   ]
  },
  {
   "cell_type": "code",
   "execution_count": 7,
   "id": "0c6528ef-8353-4822-bb78-3affe178c267",
   "metadata": {
    "tags": []
   },
   "outputs": [],
   "source": [
    "#user_input = get_user_input()"
   ]
  },
  {
   "cell_type": "markdown",
   "id": "19c93ced-908d-4cb7-97b5-6342e1f3f0bd",
   "metadata": {},
   "source": [
    "### Prediction"
   ]
  },
  {
   "cell_type": "code",
   "execution_count": 8,
   "id": "064e64e6-b619-44a7-ae41-9f460f36842c",
   "metadata": {
    "tags": []
   },
   "outputs": [],
   "source": [
    "user_input_df = pd.DataFrame([user_input])\n",
    "#user_input_df"
   ]
  },
  {
   "cell_type": "code",
   "execution_count": 28,
   "id": "b52369bb-dfb0-42cf-8876-5d2f5771e063",
   "metadata": {
    "tags": []
   },
   "outputs": [],
   "source": [
    "# Align columns with the training data\n",
    "user_input_aligned = user_input_df.reindex(columns=X.columns, fill_value=0)\n",
    "\n",
    "# Scale the input\n",
    "user_input_scaled = scaler.transform(user_input_aligned)"
   ]
  },
  {
   "cell_type": "code",
   "execution_count": 32,
   "id": "be9a1f0c-eadc-4cb9-b87e-9bff024f1f7a",
   "metadata": {
    "tags": []
   },
   "outputs": [
    {
     "name": "stdout",
     "output_type": "stream",
     "text": [
      "1/1 [==============================] - 0s 16ms/step\n"
     ]
    }
   ],
   "source": [
    "predicted_claim_ratio_ann = ann_model.predict(user_input_scaled)"
   ]
  },
  {
   "cell_type": "code",
   "execution_count": 11,
   "id": "546262e6-c118-4959-912a-2f7da88b2b94",
   "metadata": {
    "tags": []
   },
   "outputs": [],
   "source": [
    "predicted_claim_ratio_rf = rf_model.predict(user_input_aligned)"
   ]
  },
  {
   "cell_type": "code",
   "execution_count": 33,
   "id": "029a42eb-de1c-4559-83b2-ea834d65f8e7",
   "metadata": {
    "tags": []
   },
   "outputs": [
    {
     "name": "stdout",
     "output_type": "stream",
     "text": [
      "Predicted Claim Risk (ANN): 37.03%\n",
      "Predicted Claim Risk (Random Forest): 36.30%\n"
     ]
    }
   ],
   "source": [
    "claim_risk_ann = predicted_claim_ratio_ann[0][0] * 100\n",
    "claim_risk_rf = predicted_claim_ratio_rf[0] * 100\n",
    "\n",
    "print(f\"Predicted Claim Risk (ANN): {claim_risk_ann:.2f}%\")\n",
    "print(f\"Predicted Claim Risk (Random Forest): {claim_risk_rf:.2f}%\")"
   ]
  },
  {
   "cell_type": "code",
   "execution_count": null,
   "id": "3ef07fcb-f546-4a07-a41a-b596d4c9b9f0",
   "metadata": {},
   "outputs": [],
   "source": []
  }
 ],
 "metadata": {
  "kernelspec": {
   "display_name": "Python 3 (ipykernel)",
   "language": "python",
   "name": "python3"
  },
  "language_info": {
   "codemirror_mode": {
    "name": "ipython",
    "version": 3
   },
   "file_extension": ".py",
   "mimetype": "text/x-python",
   "name": "python",
   "nbconvert_exporter": "python",
   "pygments_lexer": "ipython3",
   "version": "3.11.3"
  }
 },
 "nbformat": 4,
 "nbformat_minor": 5
}
