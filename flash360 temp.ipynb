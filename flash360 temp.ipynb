{
 "cells": [
  {
   "cell_type": "markdown",
   "id": "02229485-fda4-4d39-b0e6-ea24cd423ce5",
   "metadata": {},
   "source": [
    "# Flashaid temp"
   ]
  },
  {
   "cell_type": "markdown",
   "id": "f998ccf2-c9dc-45be-a947-97090b3fc8cc",
   "metadata": {
    "tags": []
   },
   "source": [
    "## Light Preprocessing"
   ]
  },
  {
   "cell_type": "code",
   "execution_count": 29,
   "id": "c90235f5-ff0e-405f-acc9-a75db27482f5",
   "metadata": {
    "tags": []
   },
   "outputs": [],
   "source": [
    "import pandas as pd\n",
    "from sklearn.model_selection import train_test_split\n",
    "from sklearn.ensemble import RandomForestRegressor\n",
    "from sklearn.metrics import mean_squared_error\n",
    "\n",
    "import numpy as np\n",
    "from sklearn.preprocessing import StandardScaler\n",
    "from keras.models import Sequential\n",
    "from keras.layers import Dense, Dropout\n",
    "from keras.callbacks import LearningRateScheduler\n",
    "import joblib"
   ]
  },
  {
   "cell_type": "code",
   "execution_count": 2,
   "id": "e50fd6f1-8548-4d01-ae68-afe76b25d866",
   "metadata": {
    "tags": []
   },
   "outputs": [],
   "source": [
    "flashaidtemp = pd.read_csv('flash360XY.csv')"
   ]
  },
  {
   "cell_type": "code",
   "execution_count": 3,
   "id": "ed75d80f-fc2f-48e5-9cda-c5e01dbb85dc",
   "metadata": {
    "tags": []
   },
   "outputs": [],
   "source": [
    "flashaidtemp = flashaidtemp.drop(columns=['Total Count', 'Insurance Company', 'Proportional Claims Reported', 'Proportional Total Policies', 'Maternity Months', 'Room Rent Normal Propotinate Applicable', 'Room Rent ICU Propotinate Applicable'])"
   ]
  },
  {
   "cell_type": "code",
   "execution_count": 4,
   "id": "df7d9fca-6e31-4730-b141-d5f5c3baaad9",
   "metadata": {
    "tags": []
   },
   "outputs": [],
   "source": [
    "cols = ['Frequency Months', 'Adult', 'Child', 'Sum Assured',\n",
    "       'Insurance Price with GST', 'Max Age', 'Min Age',\n",
    "       'Insurance Type_Health', 'Insurance Type_Accidental Death', 'Insurance Type_Critical illness',\n",
    "       'Pre-existing disease waiting period years',\n",
    "       'Day Care Surgery waiting period years', 'Cooling Period days',\n",
    "       'Room Rent ICU Available', 'Room Rent Normal Percent',\n",
    "       'Room Rent ICU Percent', 'Cataract Available', 'Cataract waiting years',\n",
    "       'Maternity Available', 'Maternity Flat', 'Hospital Covered',\n",
    "       'Pre Hospitalization 30 days', 'Post Hospitalization 60 days',\n",
    "       'Advanced Treatment Available', 'Accident Available',\n",
    "       'Critical Available', 'HospiCash Available', 'Claim Risk']\n",
    "flashaidtemp = flashaidtemp[cols]"
   ]
  },
  {
   "cell_type": "code",
   "execution_count": 5,
   "id": "a8858f51-fa69-45dd-8acd-a0cf05191b44",
   "metadata": {
    "tags": []
   },
   "outputs": [
    {
     "name": "stderr",
     "output_type": "stream",
     "text": [
      "C:\\Users\\abhay\\AppData\\Local\\Temp\\ipykernel_26608\\1989791682.py:9: FutureWarning: The frame.append method is deprecated and will be removed from pandas in a future version. Use pandas.concat instead.\n",
      "  flashaidtemp = flashaidtemp.append(synthetic_data, ignore_index=True)\n"
     ]
    }
   ],
   "source": [
    "synthetic_data = flashaidtemp.iloc[:156].copy() #implement only for health\n",
    "\n",
    "# Set Maternity related columns to 0 or appropriate values\n",
    "synthetic_data['Maternity Available'] = 0\n",
    "synthetic_data['Maternity Flat'] = 0\n",
    "synthetic_data['Insurance Price with GST'] = flashaidtemp['Insurance Price with GST'] * 0.75\n",
    "\n",
    "# Append synthetic data to the original DataFrame\n",
    "flashaidtemp = flashaidtemp.append(synthetic_data, ignore_index=True)"
   ]
  },
  {
   "cell_type": "code",
   "execution_count": 6,
   "id": "18133740-22ff-40db-9b3b-0d78990d898d",
   "metadata": {
    "tags": []
   },
   "outputs": [],
   "source": [
    "#flash360temp.info()"
   ]
  },
  {
   "cell_type": "code",
   "execution_count": 7,
   "id": "7c5842d3-a7f6-4483-aace-9bc60c6c1f05",
   "metadata": {
    "tags": []
   },
   "outputs": [],
   "source": [
    "flashaidtemp.to_csv('flashaidtemp.csv', index=False)"
   ]
  },
  {
   "cell_type": "markdown",
   "id": "43aaeead-5e5e-4d4c-a665-86e2d92b1faf",
   "metadata": {
    "jp-MarkdownHeadingCollapsed": true,
    "tags": []
   },
   "source": [
    "## If-Else"
   ]
  },
  {
   "cell_type": "code",
   "execution_count": 8,
   "id": "26819076-3062-44d0-968a-6e8145c90749",
   "metadata": {
    "tags": []
   },
   "outputs": [
    {
     "data": {
      "text/plain": [
       "'def get_user_input(df):\\n    user_input = {}\\n    for column in df.columns[:-1]:  # Exclude the \\'Claim Ratio\\' column\\n        if column == \\'Cataract waiting years\\':\\n            if user_input.get(\\'Cataract Available\\') == 0:\\n                continue\\n        elif column == \\'Maternity Flat\\':\\n            if user_input.get(\\'Maternity Available\\') == 0:\\n                continue\\n        \\n        value = input(f\"Enter {column}: \")\\n        \\n        # Convert input to appropriate type\\n        if df[column].dtype == \\'int64\\':\\n            user_input[column] = int(value)\\n        elif df[column].dtype == \\'float64\\':\\n            user_input[column] = float(value)\\n        else:\\n            user_input[column] = value\\n\\n    return user_input'"
      ]
     },
     "execution_count": 8,
     "metadata": {},
     "output_type": "execute_result"
    }
   ],
   "source": [
    "'''def get_user_input(df):\n",
    "    user_input = {}\n",
    "    for column in df.columns[:-1]:  # Exclude the 'Claim Ratio' column\n",
    "        if column == 'Cataract waiting years':\n",
    "            if user_input.get('Cataract Available') == 0:\n",
    "                continue\n",
    "        elif column == 'Maternity Flat':\n",
    "            if user_input.get('Maternity Available') == 0:\n",
    "                continue\n",
    "        \n",
    "        value = input(f\"Enter {column}: \")\n",
    "        \n",
    "        # Convert input to appropriate type\n",
    "        if df[column].dtype == 'int64':\n",
    "            user_input[column] = int(value)\n",
    "        elif df[column].dtype == 'float64':\n",
    "            user_input[column] = float(value)\n",
    "        else:\n",
    "            user_input[column] = value\n",
    "\n",
    "    return user_input'''"
   ]
  },
  {
   "cell_type": "code",
   "execution_count": 9,
   "id": "8e2d3b4d-655a-466f-89e9-e6b0bbb6b660",
   "metadata": {
    "tags": []
   },
   "outputs": [
    {
     "data": {
      "text/plain": [
       "'user_input = get_user_input(flash360temp)\\n\\nuser_input_df = pd.DataFrame([user_input])'"
      ]
     },
     "execution_count": 9,
     "metadata": {},
     "output_type": "execute_result"
    }
   ],
   "source": [
    "'''user_input = get_user_input(flash360temp)\n",
    "\n",
    "user_input_df = pd.DataFrame([user_input])'''"
   ]
  },
  {
   "cell_type": "code",
   "execution_count": 10,
   "id": "576dd4bc-8ad5-4cc0-ad57-de16bfe84dbe",
   "metadata": {
    "tags": []
   },
   "outputs": [],
   "source": [
    "#user_input_df"
   ]
  },
  {
   "cell_type": "code",
   "execution_count": 11,
   "id": "0c32e85b-9241-4ca4-b2f0-eba4305c55c6",
   "metadata": {
    "tags": []
   },
   "outputs": [
    {
     "data": {
      "text/plain": [
       "'def get_claim_ratio(df, user_input):\\n    df = flash360temp\\n    if user_input.get(\\'Cataract Available\\') == 0:\\n        df = df.drop(columns=[\\'Cataract waiting years\\'])\\n        user_input.pop(\\'Cataract waiting years\\', None)\\n    if user_input.get(\\'Maternity Available\\') == 0:\\n        df = df.drop(columns=[\\'Maternity Flat\\'])\\n        user_input.pop(\\'Maternity Flat\\', None)\\n\\n    for index, row in df.iterrows():\\n        match = True\\n        for key, value in user_input.items():\\n            if row[key] != value:\\n                match = False\\n                break\\n        if match:\\n            return row[\\'Claim Ratio\\']\\n\\n    return \"No matching record found.\"'"
      ]
     },
     "execution_count": 11,
     "metadata": {},
     "output_type": "execute_result"
    }
   ],
   "source": [
    "'''def get_claim_ratio(df, user_input):\n",
    "    df = flash360temp\n",
    "    if user_input.get('Cataract Available') == 0:\n",
    "        df = df.drop(columns=['Cataract waiting years'])\n",
    "        user_input.pop('Cataract waiting years', None)\n",
    "    if user_input.get('Maternity Available') == 0:\n",
    "        df = df.drop(columns=['Maternity Flat'])\n",
    "        user_input.pop('Maternity Flat', None)\n",
    "\n",
    "    for index, row in df.iterrows():\n",
    "        match = True\n",
    "        for key, value in user_input.items():\n",
    "            if row[key] != value:\n",
    "                match = False\n",
    "                break\n",
    "        if match:\n",
    "            return row['Claim Ratio']\n",
    "\n",
    "    return \"No matching record found.\"'''"
   ]
  },
  {
   "cell_type": "code",
   "execution_count": 12,
   "id": "5d23f543-eebe-4ca5-a135-4101eaa71adc",
   "metadata": {
    "tags": []
   },
   "outputs": [
    {
     "data": {
      "text/plain": [
       "'claim_ratio = -1\\nclaim_ratio = get_claim_ratio(flash360temp, user_input)\\n\\nif claim_ratio == -1:\\n    print(\"Check for wrong information entered.\")\\nelse:\\n    print(f\"The Claim Ratio is: {claim_ratio}\")'"
      ]
     },
     "execution_count": 12,
     "metadata": {},
     "output_type": "execute_result"
    }
   ],
   "source": [
    "'''claim_ratio = -1\n",
    "claim_ratio = get_claim_ratio(flash360temp, user_input)\n",
    "\n",
    "if claim_ratio == -1:\n",
    "    print(\"Check for wrong information entered.\")\n",
    "else:\n",
    "    print(f\"The Claim Ratio is: {claim_ratio}\")'''"
   ]
  },
  {
   "cell_type": "markdown",
   "id": "aaf3eb5f-4200-4e59-8f1d-ecc9dbd7b2d5",
   "metadata": {
    "jp-MarkdownHeadingCollapsed": true,
    "tags": []
   },
   "source": [
    "## Random Forest"
   ]
  },
  {
   "cell_type": "code",
   "execution_count": 13,
   "id": "6656c618-5b68-4f13-a7a6-df53d49cdf78",
   "metadata": {
    "tags": []
   },
   "outputs": [],
   "source": [
    "X = flashaidtemp.drop(columns=['Claim Risk'])\n",
    "y = flashaidtemp['Claim Risk']"
   ]
  },
  {
   "cell_type": "code",
   "execution_count": 14,
   "id": "3880ed35-e7c5-4ea8-80eb-7d64eb850c04",
   "metadata": {
    "tags": []
   },
   "outputs": [],
   "source": [
    "X_train, X_test, y_train, y_test = train_test_split(X, y, test_size=0.2, random_state=42)"
   ]
  },
  {
   "cell_type": "code",
   "execution_count": 15,
   "id": "a62906ea-a3e1-4a79-bbf8-f754dfb33ce8",
   "metadata": {
    "tags": []
   },
   "outputs": [
    {
     "name": "stdout",
     "output_type": "stream",
     "text": [
      "Mean Squared Error: 6.653700044775924e-06\n"
     ]
    }
   ],
   "source": [
    "rf_model = RandomForestRegressor(random_state=42)\n",
    "\n",
    "rf_model.fit(X_train, y_train)\n",
    "\n",
    "y_pred = rf_model.predict(X_test)\n",
    "\n",
    "mse = mean_squared_error(y_test, y_pred)\n",
    "print(f\"Mean Squared Error: {mse}\")"
   ]
  },
  {
   "cell_type": "markdown",
   "id": "fc82904f-5159-4e9b-9e89-388076301669",
   "metadata": {
    "tags": []
   },
   "source": [
    "## ANN"
   ]
  },
  {
   "cell_type": "code",
   "execution_count": 16,
   "id": "e42aceb1-a954-46fe-8518-ec75b5fde61d",
   "metadata": {
    "tags": []
   },
   "outputs": [],
   "source": [
    "scaler = StandardScaler()\n",
    "X_train = scaler.fit_transform(X_train)\n",
    "X_test = scaler.transform(X_test)"
   ]
  },
  {
   "cell_type": "code",
   "execution_count": 31,
   "id": "ad5b0713-2901-4341-90c3-5138ff586763",
   "metadata": {
    "tags": []
   },
   "outputs": [],
   "source": [
    "def lr_schedule(epoch, lr):\n",
    "    if epoch > 50:\n",
    "        lr = lr * 0.5\n",
    "    return lr\n",
    "\n",
    "lr_scheduler = LearningRateScheduler(lr_schedule)"
   ]
  },
  {
   "cell_type": "code",
   "execution_count": 41,
   "id": "208877f1-6943-48ef-8d8a-84cdb68cb7ed",
   "metadata": {
    "collapsed": true,
    "jupyter": {
     "outputs_hidden": true
    },
    "tags": []
   },
   "outputs": [
    {
     "name": "stdout",
     "output_type": "stream",
     "text": [
      "Epoch 1/100\n",
      "14/14 [==============================] - 1s 8ms/step - loss: 0.4697 - val_loss: 0.0936 - lr: 0.0010\n",
      "Epoch 2/100\n",
      "14/14 [==============================] - 0s 3ms/step - loss: 0.2097 - val_loss: 0.0478 - lr: 0.0010\n",
      "Epoch 3/100\n",
      "14/14 [==============================] - 0s 3ms/step - loss: 0.1102 - val_loss: 0.0326 - lr: 0.0010\n",
      "Epoch 4/100\n",
      "14/14 [==============================] - 0s 3ms/step - loss: 0.0637 - val_loss: 0.0215 - lr: 0.0010\n",
      "Epoch 5/100\n",
      "14/14 [==============================] - 0s 3ms/step - loss: 0.0997 - val_loss: 0.0169 - lr: 0.0010\n",
      "Epoch 6/100\n",
      "14/14 [==============================] - 0s 2ms/step - loss: 0.0640 - val_loss: 0.0149 - lr: 0.0010\n",
      "Epoch 7/100\n",
      "14/14 [==============================] - 0s 2ms/step - loss: 0.0616 - val_loss: 0.0095 - lr: 0.0010\n",
      "Epoch 8/100\n",
      "14/14 [==============================] - 0s 3ms/step - loss: 0.0450 - val_loss: 0.0086 - lr: 0.0010\n",
      "Epoch 9/100\n",
      "14/14 [==============================] - 0s 2ms/step - loss: 0.0480 - val_loss: 0.0109 - lr: 0.0010\n",
      "Epoch 10/100\n",
      "14/14 [==============================] - 0s 3ms/step - loss: 0.0400 - val_loss: 0.0099 - lr: 0.0010\n",
      "Epoch 11/100\n",
      "14/14 [==============================] - 0s 2ms/step - loss: 0.0366 - val_loss: 0.0084 - lr: 0.0010\n",
      "Epoch 12/100\n",
      "14/14 [==============================] - 0s 2ms/step - loss: 0.0455 - val_loss: 0.0080 - lr: 0.0010\n",
      "Epoch 13/100\n",
      "14/14 [==============================] - 0s 3ms/step - loss: 0.0375 - val_loss: 0.0072 - lr: 0.0010\n",
      "Epoch 14/100\n",
      "14/14 [==============================] - 0s 3ms/step - loss: 0.0309 - val_loss: 0.0064 - lr: 0.0010\n",
      "Epoch 15/100\n",
      "14/14 [==============================] - 0s 2ms/step - loss: 0.0358 - val_loss: 0.0053 - lr: 0.0010\n",
      "Epoch 16/100\n",
      "14/14 [==============================] - 0s 2ms/step - loss: 0.0317 - val_loss: 0.0054 - lr: 0.0010\n",
      "Epoch 17/100\n",
      "14/14 [==============================] - 0s 3ms/step - loss: 0.0250 - val_loss: 0.0062 - lr: 0.0010\n",
      "Epoch 18/100\n",
      "14/14 [==============================] - 0s 2ms/step - loss: 0.0252 - val_loss: 0.0059 - lr: 0.0010\n",
      "Epoch 19/100\n",
      "14/14 [==============================] - 0s 3ms/step - loss: 0.0250 - val_loss: 0.0052 - lr: 0.0010\n",
      "Epoch 20/100\n",
      "14/14 [==============================] - 0s 3ms/step - loss: 0.0203 - val_loss: 0.0044 - lr: 0.0010\n",
      "Epoch 21/100\n",
      "14/14 [==============================] - 0s 2ms/step - loss: 0.0206 - val_loss: 0.0042 - lr: 0.0010\n",
      "Epoch 22/100\n",
      "14/14 [==============================] - 0s 2ms/step - loss: 0.0200 - val_loss: 0.0053 - lr: 0.0010\n",
      "Epoch 23/100\n",
      "14/14 [==============================] - 0s 3ms/step - loss: 0.0172 - val_loss: 0.0048 - lr: 0.0010\n",
      "Epoch 24/100\n",
      "14/14 [==============================] - 0s 3ms/step - loss: 0.0159 - val_loss: 0.0041 - lr: 0.0010\n",
      "Epoch 25/100\n",
      "14/14 [==============================] - 0s 2ms/step - loss: 0.0141 - val_loss: 0.0039 - lr: 0.0010\n",
      "Epoch 26/100\n",
      "14/14 [==============================] - 0s 2ms/step - loss: 0.0175 - val_loss: 0.0035 - lr: 0.0010\n",
      "Epoch 27/100\n",
      "14/14 [==============================] - 0s 2ms/step - loss: 0.0121 - val_loss: 0.0034 - lr: 0.0010\n",
      "Epoch 28/100\n",
      "14/14 [==============================] - 0s 2ms/step - loss: 0.0123 - val_loss: 0.0035 - lr: 0.0010\n",
      "Epoch 29/100\n",
      "14/14 [==============================] - 0s 2ms/step - loss: 0.0124 - val_loss: 0.0052 - lr: 0.0010\n",
      "Epoch 30/100\n",
      "14/14 [==============================] - 0s 2ms/step - loss: 0.0143 - val_loss: 0.0039 - lr: 0.0010\n",
      "Epoch 31/100\n",
      "14/14 [==============================] - 0s 2ms/step - loss: 0.0139 - val_loss: 0.0045 - lr: 0.0010\n",
      "Epoch 32/100\n",
      "14/14 [==============================] - 0s 2ms/step - loss: 0.0134 - val_loss: 0.0041 - lr: 0.0010\n",
      "Epoch 33/100\n",
      "14/14 [==============================] - 0s 3ms/step - loss: 0.0115 - val_loss: 0.0040 - lr: 0.0010\n",
      "Epoch 34/100\n",
      "14/14 [==============================] - 0s 3ms/step - loss: 0.0106 - val_loss: 0.0041 - lr: 0.0010\n",
      "Epoch 35/100\n",
      "14/14 [==============================] - 0s 2ms/step - loss: 0.0134 - val_loss: 0.0037 - lr: 0.0010\n",
      "Epoch 36/100\n",
      "14/14 [==============================] - 0s 2ms/step - loss: 0.0099 - val_loss: 0.0030 - lr: 0.0010\n",
      "Epoch 37/100\n",
      "14/14 [==============================] - 0s 2ms/step - loss: 0.0097 - val_loss: 0.0026 - lr: 0.0010\n",
      "Epoch 38/100\n",
      "14/14 [==============================] - 0s 2ms/step - loss: 0.0110 - val_loss: 0.0025 - lr: 0.0010\n",
      "Epoch 39/100\n",
      "14/14 [==============================] - 0s 3ms/step - loss: 0.0069 - val_loss: 0.0034 - lr: 0.0010\n",
      "Epoch 40/100\n",
      "14/14 [==============================] - 0s 3ms/step - loss: 0.0090 - val_loss: 0.0038 - lr: 0.0010\n",
      "Epoch 41/100\n",
      "14/14 [==============================] - 0s 3ms/step - loss: 0.0092 - val_loss: 0.0027 - lr: 0.0010\n",
      "Epoch 42/100\n",
      "14/14 [==============================] - 0s 3ms/step - loss: 0.0080 - val_loss: 0.0023 - lr: 0.0010\n",
      "Epoch 43/100\n",
      "14/14 [==============================] - 0s 2ms/step - loss: 0.0104 - val_loss: 0.0027 - lr: 0.0010\n",
      "Epoch 44/100\n",
      "14/14 [==============================] - 0s 2ms/step - loss: 0.0082 - val_loss: 0.0032 - lr: 0.0010\n",
      "Epoch 45/100\n",
      "14/14 [==============================] - 0s 3ms/step - loss: 0.0078 - val_loss: 0.0030 - lr: 0.0010\n",
      "Epoch 46/100\n",
      "14/14 [==============================] - 0s 3ms/step - loss: 0.0074 - val_loss: 0.0020 - lr: 0.0010\n",
      "Epoch 47/100\n",
      "14/14 [==============================] - 0s 3ms/step - loss: 0.0072 - val_loss: 0.0019 - lr: 0.0010\n",
      "Epoch 48/100\n",
      "14/14 [==============================] - 0s 3ms/step - loss: 0.0077 - val_loss: 0.0017 - lr: 0.0010\n",
      "Epoch 49/100\n",
      "14/14 [==============================] - 0s 3ms/step - loss: 0.0068 - val_loss: 0.0021 - lr: 0.0010\n",
      "Epoch 50/100\n",
      "14/14 [==============================] - 0s 3ms/step - loss: 0.0072 - val_loss: 0.0028 - lr: 0.0010\n",
      "Epoch 51/100\n",
      "14/14 [==============================] - 0s 3ms/step - loss: 0.0070 - val_loss: 0.0017 - lr: 0.0010\n",
      "Epoch 52/100\n",
      "14/14 [==============================] - 0s 3ms/step - loss: 0.0071 - val_loss: 0.0016 - lr: 5.0000e-04\n",
      "Epoch 53/100\n",
      "14/14 [==============================] - 0s 3ms/step - loss: 0.0061 - val_loss: 0.0018 - lr: 2.5000e-04\n",
      "Epoch 54/100\n",
      "14/14 [==============================] - 0s 3ms/step - loss: 0.0061 - val_loss: 0.0019 - lr: 1.2500e-04\n",
      "Epoch 55/100\n",
      "14/14 [==============================] - 0s 3ms/step - loss: 0.0075 - val_loss: 0.0018 - lr: 6.2500e-05\n",
      "Epoch 56/100\n",
      "14/14 [==============================] - 0s 3ms/step - loss: 0.0068 - val_loss: 0.0018 - lr: 3.1250e-05\n",
      "Epoch 57/100\n",
      "14/14 [==============================] - 0s 2ms/step - loss: 0.0066 - val_loss: 0.0018 - lr: 1.5625e-05\n",
      "Epoch 58/100\n",
      "14/14 [==============================] - 0s 3ms/step - loss: 0.0073 - val_loss: 0.0018 - lr: 7.8125e-06\n",
      "Epoch 59/100\n",
      "14/14 [==============================] - 0s 3ms/step - loss: 0.0060 - val_loss: 0.0018 - lr: 3.9063e-06\n",
      "Epoch 60/100\n",
      "14/14 [==============================] - 0s 3ms/step - loss: 0.0058 - val_loss: 0.0018 - lr: 1.9531e-06\n",
      "Epoch 61/100\n",
      "14/14 [==============================] - 0s 3ms/step - loss: 0.0067 - val_loss: 0.0018 - lr: 9.7656e-07\n",
      "Epoch 62/100\n",
      "14/14 [==============================] - 0s 3ms/step - loss: 0.0065 - val_loss: 0.0018 - lr: 4.8828e-07\n",
      "Epoch 63/100\n",
      "14/14 [==============================] - 0s 3ms/step - loss: 0.0063 - val_loss: 0.0018 - lr: 2.4414e-07\n",
      "Epoch 64/100\n",
      "14/14 [==============================] - 0s 3ms/step - loss: 0.0064 - val_loss: 0.0018 - lr: 1.2207e-07\n",
      "Epoch 65/100\n",
      "14/14 [==============================] - 0s 3ms/step - loss: 0.0067 - val_loss: 0.0018 - lr: 6.1035e-08\n",
      "Epoch 66/100\n",
      "14/14 [==============================] - 0s 3ms/step - loss: 0.0072 - val_loss: 0.0018 - lr: 3.0518e-08\n",
      "Epoch 67/100\n",
      "14/14 [==============================] - 0s 3ms/step - loss: 0.0062 - val_loss: 0.0018 - lr: 1.5259e-08\n",
      "Epoch 68/100\n",
      "14/14 [==============================] - 0s 3ms/step - loss: 0.0061 - val_loss: 0.0018 - lr: 7.6294e-09\n",
      "Epoch 69/100\n",
      "14/14 [==============================] - 0s 4ms/step - loss: 0.0062 - val_loss: 0.0018 - lr: 3.8147e-09\n",
      "Epoch 70/100\n",
      "14/14 [==============================] - 0s 3ms/step - loss: 0.0065 - val_loss: 0.0018 - lr: 1.9073e-09\n",
      "Epoch 71/100\n",
      "14/14 [==============================] - 0s 3ms/step - loss: 0.0056 - val_loss: 0.0018 - lr: 9.5367e-10\n",
      "Epoch 72/100\n",
      "14/14 [==============================] - 0s 3ms/step - loss: 0.0059 - val_loss: 0.0018 - lr: 4.7684e-10\n",
      "Epoch 73/100\n",
      "14/14 [==============================] - 0s 3ms/step - loss: 0.0062 - val_loss: 0.0018 - lr: 2.3842e-10\n",
      "Epoch 74/100\n",
      "14/14 [==============================] - 0s 4ms/step - loss: 0.0066 - val_loss: 0.0018 - lr: 1.1921e-10\n",
      "Epoch 75/100\n",
      "14/14 [==============================] - 0s 3ms/step - loss: 0.0063 - val_loss: 0.0018 - lr: 5.9605e-11\n",
      "Epoch 76/100\n",
      "14/14 [==============================] - 0s 4ms/step - loss: 0.0058 - val_loss: 0.0018 - lr: 2.9802e-11\n",
      "Epoch 77/100\n",
      "14/14 [==============================] - 0s 4ms/step - loss: 0.0068 - val_loss: 0.0018 - lr: 1.4901e-11\n",
      "Epoch 78/100\n",
      "14/14 [==============================] - 0s 3ms/step - loss: 0.0066 - val_loss: 0.0018 - lr: 7.4506e-12\n",
      "Epoch 79/100\n",
      "14/14 [==============================] - 0s 3ms/step - loss: 0.0059 - val_loss: 0.0018 - lr: 3.7253e-12\n",
      "Epoch 80/100\n",
      "14/14 [==============================] - 0s 3ms/step - loss: 0.0066 - val_loss: 0.0018 - lr: 1.8626e-12\n",
      "Epoch 81/100\n",
      "14/14 [==============================] - 0s 3ms/step - loss: 0.0063 - val_loss: 0.0018 - lr: 9.3132e-13\n",
      "Epoch 82/100\n",
      "14/14 [==============================] - 0s 3ms/step - loss: 0.0064 - val_loss: 0.0018 - lr: 4.6566e-13\n",
      "Epoch 83/100\n",
      "14/14 [==============================] - 0s 3ms/step - loss: 0.0063 - val_loss: 0.0018 - lr: 2.3283e-13\n",
      "Epoch 84/100\n",
      "14/14 [==============================] - 0s 2ms/step - loss: 0.0070 - val_loss: 0.0018 - lr: 1.1642e-13\n",
      "Epoch 85/100\n",
      "14/14 [==============================] - 0s 2ms/step - loss: 0.0069 - val_loss: 0.0018 - lr: 5.8208e-14\n",
      "Epoch 86/100\n",
      "14/14 [==============================] - 0s 3ms/step - loss: 0.0056 - val_loss: 0.0018 - lr: 2.9104e-14\n",
      "Epoch 87/100\n",
      "14/14 [==============================] - 0s 2ms/step - loss: 0.0061 - val_loss: 0.0018 - lr: 1.4552e-14\n",
      "Epoch 88/100\n",
      "14/14 [==============================] - 0s 2ms/step - loss: 0.0065 - val_loss: 0.0018 - lr: 7.2760e-15\n",
      "Epoch 89/100\n",
      "14/14 [==============================] - 0s 3ms/step - loss: 0.0068 - val_loss: 0.0018 - lr: 3.6380e-15\n",
      "Epoch 90/100\n",
      "14/14 [==============================] - 0s 3ms/step - loss: 0.0055 - val_loss: 0.0018 - lr: 1.8190e-15\n",
      "Epoch 91/100\n",
      "14/14 [==============================] - 0s 3ms/step - loss: 0.0075 - val_loss: 0.0018 - lr: 9.0949e-16\n",
      "Epoch 92/100\n",
      "14/14 [==============================] - 0s 2ms/step - loss: 0.0058 - val_loss: 0.0018 - lr: 4.5475e-16\n",
      "Epoch 93/100\n",
      "14/14 [==============================] - 0s 2ms/step - loss: 0.0066 - val_loss: 0.0018 - lr: 2.2737e-16\n",
      "Epoch 94/100\n",
      "14/14 [==============================] - 0s 2ms/step - loss: 0.0074 - val_loss: 0.0018 - lr: 1.1369e-16\n",
      "Epoch 95/100\n",
      "14/14 [==============================] - 0s 3ms/step - loss: 0.0053 - val_loss: 0.0018 - lr: 5.6843e-17\n",
      "Epoch 96/100\n",
      "14/14 [==============================] - 0s 2ms/step - loss: 0.0076 - val_loss: 0.0018 - lr: 2.8422e-17\n",
      "Epoch 97/100\n",
      "14/14 [==============================] - 0s 3ms/step - loss: 0.0055 - val_loss: 0.0018 - lr: 1.4211e-17\n",
      "Epoch 98/100\n",
      "14/14 [==============================] - 0s 2ms/step - loss: 0.0059 - val_loss: 0.0018 - lr: 7.1054e-18\n",
      "Epoch 99/100\n",
      "14/14 [==============================] - 0s 3ms/step - loss: 0.0060 - val_loss: 0.0018 - lr: 3.5527e-18\n",
      "Epoch 100/100\n",
      "14/14 [==============================] - 0s 2ms/step - loss: 0.0075 - val_loss: 0.0018 - lr: 1.7764e-18\n"
     ]
    },
    {
     "data": {
      "text/plain": [
       "<keras.src.callbacks.History at 0x27459dcbd50>"
      ]
     },
     "execution_count": 41,
     "metadata": {},
     "output_type": "execute_result"
    }
   ],
   "source": [
    "model = Sequential()\n",
    "model.add(Dense(units=64, activation='relu', input_dim=X_train.shape[1]))\n",
    "model.add(Dropout(0.2))\n",
    "model.add(Dense(units=32, activation='relu'))\n",
    "model.add(Dropout(0.2))\n",
    "model.add(Dense(units=1, activation='linear'))\n",
    "\n",
    "model.compile(optimizer='adam', loss='mean_squared_error')\n",
    "\n",
    "model.fit(X_train, y_train, epochs=100, batch_size=16, validation_split=0.2, callbacks=[lr_scheduler])"
   ]
  },
  {
   "cell_type": "code",
   "execution_count": 42,
   "id": "efdb095f-5b32-4b69-a157-98a68a516b0b",
   "metadata": {
    "tags": []
   },
   "outputs": [
    {
     "name": "stdout",
     "output_type": "stream",
     "text": [
      "3/3 [==============================] - 0s 0s/step - loss: 0.0022\n",
      "Test Loss: 0.002186686499044299\n"
     ]
    }
   ],
   "source": [
    "loss = model.evaluate(X_test, y_test)\n",
    "print(f\"Test Loss: {loss}\")"
   ]
  },
  {
   "cell_type": "markdown",
   "id": "7d43f4ea-4ba2-407a-baab-5601b2eb5231",
   "metadata": {},
   "source": [
    "## Save models"
   ]
  },
  {
   "cell_type": "code",
   "execution_count": 43,
   "id": "c2136ad6-a729-46c7-96a0-252ead7d65be",
   "metadata": {
    "tags": []
   },
   "outputs": [
    {
     "data": {
      "text/plain": [
       "['scaler.pkl']"
      ]
     },
     "execution_count": 43,
     "metadata": {},
     "output_type": "execute_result"
    }
   ],
   "source": [
    "joblib.dump(scaler, 'scaler.pkl')"
   ]
  },
  {
   "cell_type": "code",
   "execution_count": 39,
   "id": "f4f367d6-1898-4ed6-a9ae-a695ed6ce5bd",
   "metadata": {
    "tags": []
   },
   "outputs": [
    {
     "data": {
      "text/plain": [
       "['rf_model.pkl']"
      ]
     },
     "execution_count": 39,
     "metadata": {},
     "output_type": "execute_result"
    }
   ],
   "source": [
    "joblib.dump(rf_model, 'rf_model.pkl')"
   ]
  },
  {
   "cell_type": "code",
   "execution_count": 44,
   "id": "63eba140-042e-4173-be6e-7a235db67780",
   "metadata": {
    "tags": []
   },
   "outputs": [],
   "source": [
    "model.save('ann_model.keras')"
   ]
  },
  {
   "cell_type": "code",
   "execution_count": null,
   "id": "7165512e-5dd5-478a-8cce-8b4dc056b3ea",
   "metadata": {},
   "outputs": [],
   "source": []
  }
 ],
 "metadata": {
  "kernelspec": {
   "display_name": "Python 3 (ipykernel)",
   "language": "python",
   "name": "python3"
  },
  "language_info": {
   "codemirror_mode": {
    "name": "ipython",
    "version": 3
   },
   "file_extension": ".py",
   "mimetype": "text/x-python",
   "name": "python",
   "nbconvert_exporter": "python",
   "pygments_lexer": "ipython3",
   "version": "3.11.3"
  }
 },
 "nbformat": 4,
 "nbformat_minor": 5
}
